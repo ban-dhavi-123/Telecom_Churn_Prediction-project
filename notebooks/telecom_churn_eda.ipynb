{
 "cells": [
  {
   "cell_type": "markdown",
   "metadata": {},
   "source": [
    "# Telecom Customer Churn Prediction - Exploratory Data Analysis\n",
    "\n",
    "## Project Overview\n",
    "This notebook performs comprehensive exploratory data analysis (EDA) on telecom customer churn data.\n",
    "\n",
    "### Objectives:\n",
    "1. Load and explore the dataset\n",
    "2. Analyze data distributions\n",
    "3. Identify patterns and correlations\n",
    "4. Visualize key insights\n",
    "5. Prepare data for modeling"
   ]
  },
  {
   "cell_type": "code",
   "execution_count": null,
   "metadata": {},
   "outputs": [],
   "source": [
    "# Import required libraries\n",
    "import pandas as pd\n",
    "import numpy as np\n",
    "import matplotlib.pyplot as plt\n",
    "import seaborn as sns\n",
    "import plotly.express as px\n",
    "import warnings\n",
    "warnings.filterwarnings('ignore')\n",
    "\n",
    "# Set visualization style\n",
    "sns.set_style('whitegrid')\n",
    "plt.rcParams['figure.figsize'] = (12, 6)\n",
    "\n",
    "print(\"Libraries imported successfully!\")"
   ]
  },
  {
   "cell_type": "markdown",
   "metadata": {},
   "source": [
    "## 1. Load Dataset\n",
    "\n",
    "Load the telecom churn dataset from the data folder."
   ]
  },
  {
   "cell_type": "code",
   "execution_count": null,
   "metadata": {},
   "outputs": [],
   "source": [
    "# Load data - Update the path based on your file location\n",
    "# For CSV file:\n",
    "# df = pd.read_csv('../data/telecom_churn.csv')\n",
    "\n",
    "# For Excel file:\n",
    "# df = pd.read_excel(r'C:\\Users\\lssan\\Downloads\\P585 Churn.xlsx')\n",
    "\n",
    "# Placeholder - update with your actual file path\n",
    "data_path = '../data/telecom_churn.csv'  # Change this to your file path\n",
    "\n",
    "try:\n",
    "    if data_path.endswith('.csv'):\n",
    "        df = pd.read_csv(data_path)\n",
    "    elif data_path.endswith(('.xlsx', '.xls')):\n",
    "        df = pd.read_excel(data_path)\n",
    "    print(f\"✓ Data loaded successfully!\")\n",
    "    print(f\"Dataset shape: {df.shape}\")\n",
    "except FileNotFoundError:\n",
    "    print(\"⚠ File not found. Please update the data_path variable with your file location.\")\n",
    "    df = None"
   ]
  },
  {
   "cell_type": "markdown",
   "metadata": {},
   "source": [
    "## 2. Initial Data Exploration"
   ]
  },
  {
   "cell_type": "code",
   "execution_count": null,
   "metadata": {},
   "outputs": [],
   "source": [
    "# Display first few rows\n",
    "if df is not None:\n",
    "    print(\"First 5 rows of the dataset:\")\n",
    "    display(df.head())"
   ]
  },
  {
   "cell_type": "code",
   "execution_count": null,
   "metadata": {},
   "outputs": [],
   "source": [
    "# Dataset information\n",
    "if df is not None:\n",
    "    print(\"Dataset Information:\")\n",
    "    print(f\"\\nNumber of rows: {df.shape[0]}\")\n",
    "    print(f\"Number of columns: {df.shape[1]}\")\n",
    "    print(f\"\\nColumn names: {list(df.columns)}\")\n",
    "    print(\"\\nData types:\")\n",
    "    print(df.dtypes)"
   ]
  },
  {
   "cell_type": "code",
   "execution_count": null,
   "metadata": {},
   "outputs": [],
   "source": [
    "# Statistical summary\n",
    "if df is not None:\n",
    "    print(\"Statistical Summary:\")\n",
    "    display(df.describe())"
   ]
  },
  {
   "cell_type": "code",
   "execution_count": null,
   "metadata": {},
   "outputs": [],
   "source": [
    "# Check for missing values\n",
    "if df is not None:\n",
    "    print(\"Missing Values Analysis:\")\n",
    "    missing = df.isnull().sum()\n",
    "    missing_percent = (missing / len(df)) * 100\n",
    "    missing_df = pd.DataFrame({\n",
    "        'Missing_Count': missing,\n",
    "        'Percentage': missing_percent\n",
    "    })\n",
    "    print(missing_df[missing_df['Missing_Count'] > 0])\n",
    "    \n",
    "    if missing.sum() == 0:\n",
    "        print(\"\\n✓ No missing values found!\")"
   ]
  },
  {
   "cell_type": "code",
   "execution_count": null,
   "metadata": {},
   "outputs": [],
   "source": [
    "# Check for duplicates\n",
    "if df is not None:\n",
    "    duplicates = df.duplicated().sum()\n",
    "    print(f\"Number of duplicate rows: {duplicates}\")\n",
    "    \n",
    "    if duplicates > 0:\n",
    "        print(f\"Percentage of duplicates: {(duplicates/len(df))*100:.2f}%\")"
   ]
  },
  {
   "cell_type": "markdown",
   "metadata": {},
   "source": [
    "## 3. Target Variable Analysis\n",
    "\n",
    "Analyze the distribution of the churn variable (target)."
   ]
  },
  {
   "cell_type": "code",
   "execution_count": null,
   "metadata": {},
   "outputs": [],
   "source": [
    "# Target variable distribution\n",
    "if df is not None:\n",
    "    # Update 'Churn' with your actual target column name\n",
    "    target_col = 'Churn'  # Change this if your target column has a different name\n",
    "    \n",
    "    if target_col in df.columns:\n",
    "        fig, axes = plt.subplots(1, 2, figsize=(14, 5))\n",
    "        \n",
    "        # Count plot\n",
    "        churn_counts = df[target_col].value_counts()\n",
    "        axes[0].bar(churn_counts.index.astype(str), churn_counts.values, \n",
    "                   color=['#2ecc71', '#e74c3c'])\n",
    "        axes[0].set_title(f'{target_col} Distribution', fontsize=14, fontweight='bold')\n",
    "        axes[0].set_xlabel(target_col)\n",
    "        axes[0].set_ylabel('Count')\n",
    "        axes[0].grid(axis='y', alpha=0.3)\n",
    "        \n",
    "        # Add value labels\n",
    "        for i, v in enumerate(churn_counts.values):\n",
    "            axes[0].text(i, v + 50, str(v), ha='center', va='bottom', fontweight='bold')\n",
    "        \n",
    "        # Pie chart\n",
    "        axes[1].pie(churn_counts.values, labels=churn_counts.index, autopct='%1.1f%%',\n",
    "                   colors=['#2ecc71', '#e74c3c'], startangle=90)\n",
    "        axes[1].set_title(f'{target_col} Percentage', fontsize=14, fontweight='bold')\n",
    "        \n",
    "        plt.tight_layout()\n",
    "        plt.show()\n",
    "        \n",
    "        print(f\"\\n{target_col} Distribution:\")\n",
    "        for label, count in churn_counts.items():\n",
    "            percentage = (count / len(df)) * 100\n",
    "            print(f\"  {label}: {count} ({percentage:.2f}%)\")\n",
    "    else:\n",
    "        print(f\"⚠ Column '{target_col}' not found in dataset\")"
   ]
  },
  {
   "cell_type": "markdown",
   "metadata": {},
   "source": [
    "## 4. Numerical Features Analysis"
   ]
  },
  {
   "cell_type": "code",
   "execution_count": null,
   "metadata": {},
   "outputs": [],
   "source": [
    "# Identify numerical columns\n",
    "if df is not None:\n",
    "    numerical_cols = df.select_dtypes(include=['int64', 'float64']).columns.tolist()\n",
    "    print(f\"Numerical columns ({len(numerical_cols)}):\")\n",
    "    for col in numerical_cols:\n",
    "        print(f\"  - {col}\")"
   ]
  },
  {
   "cell_type": "code",
   "execution_count": null,
   "metadata": {},
   "outputs": [],
   "source": [
    "# Distribution of numerical features\n",
    "if df is not None and numerical_cols:\n",
    "    n_cols = 3\n",
    "    n_rows = (len(numerical_cols) + n_cols - 1) // n_cols\n",
    "    \n",
    "    fig, axes = plt.subplots(n_rows, n_cols, figsize=(15, 5 * n_rows))\n",
    "    axes = axes.ravel() if n_rows > 1 else [axes] if n_cols == 1 else axes\n",
    "    \n",
    "    for idx, col in enumerate(numerical_cols):\n",
    "        axes[idx].hist(df[col].dropna(), bins=30, color='skyblue', edgecolor='black', alpha=0.7)\n",
    "        axes[idx].set_title(f'Distribution of {col}', fontweight='bold')\n",
    "        axes[idx].set_xlabel(col)\n",
    "        axes[idx].set_ylabel('Frequency')\n",
    "        axes[idx].grid(axis='y', alpha=0.3)\n",
    "    \n",
    "    # Hide empty subplots\n",
    "    for idx in range(len(numerical_cols), len(axes)):\n",
    "        axes[idx].axis('off')\n",
    "    \n",
    "    plt.tight_layout()\n",
    "    plt.show()"
   ]
  },
  {
   "cell_type": "markdown",
   "metadata": {},
   "source": [
    "## 5. Categorical Features Analysis"
   ]
  },
  {
   "cell_type": "code",
   "execution_count": null,
   "metadata": {},
   "outputs": [],
   "source": [
    "# Identify categorical columns\n",
    "if df is not None:\n",
    "    categorical_cols = df.select_dtypes(include=['object']).columns.tolist()\n",
    "    print(f\"Categorical columns ({len(categorical_cols)}):\")\n",
    "    for col in categorical_cols:\n",
    "        print(f\"  - {col}: {df[col].nunique()} unique values\")"
   ]
  },
  {
   "cell_type": "code",
   "execution_count": null,
   "metadata": {},
   "outputs": [],
   "source": [
    "# Distribution of categorical features\n",
    "if df is not None and categorical_cols:\n",
    "    # Remove target column if present\n",
    "    cat_cols_to_plot = [col for col in categorical_cols if col != target_col]\n",
    "    \n",
    "    if cat_cols_to_plot:\n",
    "        n_cols = 2\n",
    "        n_rows = (len(cat_cols_to_plot) + n_cols - 1) // n_cols\n",
    "        \n",
    "        fig, axes = plt.subplots(n_rows, n_cols, figsize=(15, 5 * n_rows))\n",
    "        axes = axes.ravel() if n_rows > 1 else [axes] if n_cols == 1 else axes\n",
    "        \n",
    "        for idx, col in enumerate(cat_cols_to_plot):\n",
    "            df[col].value_counts().plot(kind='bar', ax=axes[idx], color='skyblue')\n",
    "            axes[idx].set_title(f'Distribution of {col}', fontweight='bold')\n",
    "            axes[idx].set_xlabel(col)\n",
    "            axes[idx].set_ylabel('Count')\n",
    "            axes[idx].grid(axis='y', alpha=0.3)\n",
    "            plt.setp(axes[idx].xaxis.get_majorticklabels(), rotation=45, ha='right')\n",
    "        \n",
    "        # Hide empty subplots\n",
    "        for idx in range(len(cat_cols_to_plot), len(axes)):\n",
    "            axes[idx].axis('off')\n",
    "        \n",
    "        plt.tight_layout()\n",
    "        plt.show()"
   ]
  },
  {
   "cell_type": "markdown",
   "metadata": {},
   "source": [
    "## 6. Correlation Analysis"
   ]
  },
  {
   "cell_type": "code",
   "execution_count": null,
   "metadata": {},
   "outputs": [],
   "source": [
    "# Correlation matrix for numerical features\n",
    "if df is not None and numerical_cols:\n",
    "    plt.figure(figsize=(12, 10))\n",
    "    corr_matrix = df[numerical_cols].corr()\n",
    "    sns.heatmap(corr_matrix, annot=True, fmt='.2f', cmap='coolwarm', \n",
    "               center=0, square=True, linewidths=1, cbar_kws={\"shrink\": 0.8})\n",
    "    plt.title('Correlation Matrix', fontsize=16, fontweight='bold', pad=20)\n",
    "    plt.tight_layout()\n",
    "    plt.show()"
   ]
  },
  {
   "cell_type": "markdown",
   "metadata": {},
   "source": [
    "## 7. Churn Analysis by Features\n",
    "\n",
    "Analyze how different features relate to customer churn."
   ]
  },
  {
   "cell_type": "code",
   "execution_count": null,
   "metadata": {},
   "outputs": [],
   "source": [
    "# Categorical features vs Churn\n",
    "if df is not None and target_col in df.columns:\n",
    "    cat_cols_to_analyze = [col for col in categorical_cols if col != target_col]\n",
    "    \n",
    "    if cat_cols_to_analyze:\n",
    "        n_cols = 2\n",
    "        n_rows = (len(cat_cols_to_analyze) + n_cols - 1) // n_cols\n",
    "        \n",
    "        fig, axes = plt.subplots(n_rows, n_cols, figsize=(15, 5 * n_rows))\n",
    "        axes = axes.ravel() if n_rows > 1 else [axes] if n_cols == 1 else axes\n",
    "        \n",
    "        for idx, col in enumerate(cat_cols_to_analyze):\n",
    "            churn_data = df.groupby([col, target_col]).size().unstack(fill_value=0)\n",
    "            churn_data.plot(kind='bar', ax=axes[idx], color=['#2ecc71', '#e74c3c'])\n",
    "            axes[idx].set_title(f'{col} vs {target_col}', fontweight='bold')\n",
    "            axes[idx].set_xlabel(col)\n",
    "            axes[idx].set_ylabel('Count')\n",
    "            axes[idx].legend(title=target_col)\n",
    "            axes[idx].grid(axis='y', alpha=0.3)\n",
    "            plt.setp(axes[idx].xaxis.get_majorticklabels(), rotation=45, ha='right')\n",
    "        \n",
    "        # Hide empty subplots\n",
    "        for idx in range(len(cat_cols_to_analyze), len(axes)):\n",
    "            axes[idx].axis('off')\n",
    "        \n",
    "        plt.tight_layout()\n",
    "        plt.show()"
   ]
  },
  {
   "cell_type": "code",
   "execution_count": null,
   "metadata": {},
   "outputs": [],
   "source": [
    "# Numerical features vs Churn (Box plots)\n",
    "if df is not None and target_col in df.columns and numerical_cols:\n",
    "    # Remove target if it's numerical\n",
    "    num_cols_to_plot = [col for col in numerical_cols if col != target_col]\n",
    "    \n",
    "    if num_cols_to_plot:\n",
    "        n_cols = 3\n",
    "        n_rows = (len(num_cols_to_plot) + n_cols - 1) // n_cols\n",
    "        \n",
    "        fig, axes = plt.subplots(n_rows, n_cols, figsize=(15, 5 * n_rows))\n",
    "        axes = axes.ravel() if n_rows > 1 else [axes] if n_cols == 1 else axes\n",
    "        \n",
    "        for idx, col in enumerate(num_cols_to_plot):\n",
    "            df.boxplot(column=col, by=target_col, ax=axes[idx])\n",
    "            axes[idx].set_title(f'{col} by {target_col}', fontweight='bold')\n",
    "            axes[idx].set_xlabel(target_col)\n",
    "            axes[idx].set_ylabel(col)\n",
    "        \n",
    "        # Hide empty subplots\n",
    "        for idx in range(len(num_cols_to_plot), len(axes)):\n",
    "            axes[idx].axis('off')\n",
    "        \n",
    "        plt.suptitle('')\n",
    "        plt.tight_layout()\n",
    "        plt.show()"
   ]
  },
  {
   "cell_type": "markdown",
   "metadata": {},
   "source": [
    "## 8. Key Insights Summary\n",
    "\n",
    "Document key findings from the EDA."
   ]
  },
  {
   "cell_type": "code",
   "execution_count": null,
   "metadata": {},
   "outputs": [],
   "source": [
    "# Summary of key insights\n",
    "if df is not None:\n",
    "    print(\"=\"*70)\n",
    "    print(\" \"*20 + \"KEY INSIGHTS SUMMARY\")\n",
    "    print(\"=\"*70)\n",
    "    \n",
    "    print(f\"\\n1. Dataset Overview:\")\n",
    "    print(f\"   - Total customers: {len(df):,}\")\n",
    "    print(f\"   - Total features: {df.shape[1]}\")\n",
    "    print(f\"   - Numerical features: {len(numerical_cols)}\")\n",
    "    print(f\"   - Categorical features: {len(categorical_cols)}\")\n",
    "    \n",
    "    if target_col in df.columns:\n",
    "        print(f\"\\n2. Churn Distribution:\")\n",
    "        churn_counts = df[target_col].value_counts()\n",
    "        for label, count in churn_counts.items():\n",
    "            percentage = (count / len(df)) * 100\n",
    "            print(f\"   - {label}: {count:,} ({percentage:.2f}%)\")\n",
    "    \n",
    "    print(f\"\\n3. Data Quality:\")\n",
    "    missing_total = df.isnull().sum().sum()\n",
    "    print(f\"   - Missing values: {missing_total}\")\n",
    "    print(f\"   - Duplicate rows: {df.duplicated().sum()}\")\n",
    "    \n",
    "    print(\"\\n\" + \"=\"*70)\n",
    "    print(\"\\n✓ EDA completed! Ready for preprocessing and modeling.\")"
   ]
  },
  {
   "cell_type": "markdown",
   "metadata": {},
   "source": [
    "## Next Steps\n",
    "\n",
    "1. **Data Preprocessing**: Clean and prepare data for modeling\n",
    "2. **Feature Engineering**: Create new features if needed\n",
    "3. **Model Building**: Train multiple ML models\n",
    "4. **Model Evaluation**: Compare model performance\n",
    "5. **Deployment**: Create Streamlit app for predictions"
   ]
  }
 ],
 "metadata": {
  "kernelspec": {
   "display_name": "Python 3",
   "language": "python",
   "name": "python3"
  },
  "language_info": {
   "codemirror_mode": {
    "name": "ipython",
    "version": 3
   },
   "file_extension": ".py",
   "mimetype": "text/x-python",
   "name": "python",
   "nbconvert_exporter": "python",
   "pygments_lexer": "ipython3",
   "version": "3.8.0"
  }
 },
 "nbformat": 4,
 "nbformat_minor": 4
}
